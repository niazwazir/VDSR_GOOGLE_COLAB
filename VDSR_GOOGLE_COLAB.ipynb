{
  "nbformat": 4,
  "nbformat_minor": 0,
  "metadata": {
    "colab": {
      "name": "VDSR_GOOGLE_COLAB.ipynb",
      "version": "0.3.2",
      "provenance": []
    },
    "kernelspec": {
      "name": "python3",
      "display_name": "Python 3"
    },
    "accelerator": "GPU"
  },
  "cells": [
    {
      "metadata": {
        "id": "Et4okMt_tGTX",
        "colab_type": "code",
        "outputId": "bdc86c4e-c8c5-412e-9451-aeadb34c5821",
        "colab": {
          "base_uri": "https://localhost:8080/",
          "height": 102
        }
      },
      "cell_type": "code",
      "source": [
        "!git clone https://github.com/niazwazir/VDSR_GOOGLE_COLAB.git"
      ],
      "execution_count": 0,
      "outputs": [
        {
          "output_type": "stream",
          "text": [
            "Cloning into 'VDSR_GOOGLE_COLAB'...\n",
            "remote: Enumerating objects: 117, done.\u001b[K\n",
            "remote: Total 117 (delta 0), reused 0 (delta 0), pack-reused 117\u001b[K\n",
            "Receiving objects: 100% (117/117), 90.72 MiB | 37.59 MiB/s, done.\n",
            "Resolving deltas: 100% (21/21), done.\n"
          ],
          "name": "stdout"
        }
      ]
    },
    {
      "metadata": {
        "id": "nTsGbzkEtGWs",
        "colab_type": "code",
        "outputId": "10c6e4ea-7f9f-4de7-dbc8-fca0a19327c6",
        "colab": {
          "base_uri": "https://localhost:8080/",
          "height": 34
        }
      },
      "cell_type": "code",
      "source": [
        "!ls"
      ],
      "execution_count": 0,
      "outputs": [
        {
          "output_type": "stream",
          "text": [
            "sample_data  VDSR_GOOGLE_COLAB\n"
          ],
          "name": "stdout"
        }
      ]
    },
    {
      "metadata": {
        "id": "oHFnfT1MtGZY",
        "colab_type": "code",
        "outputId": "8f4936ca-0d56-43ea-ab10-53096da46f39",
        "colab": {
          "base_uri": "https://localhost:8080/",
          "height": 34
        }
      },
      "cell_type": "code",
      "source": [
        "cd VDSR_GOOGLE_COLAB"
      ],
      "execution_count": 0,
      "outputs": [
        {
          "output_type": "stream",
          "text": [
            "/content/VDSR_GOOGLE_COLAB\n"
          ],
          "name": "stdout"
        }
      ]
    },
    {
      "metadata": {
        "id": "occuxeL4tGcQ",
        "colab_type": "code",
        "outputId": "697d3cb4-7a47-494c-df9e-e2fae4aa4f0b",
        "colab": {
          "base_uri": "https://localhost:8080/",
          "height": 666
        }
      },
      "cell_type": "code",
      "source": [
        "#TEST THE MODEl\n",
        "!python eval.py --model model/model_epoch_50.pth --dataset Set5 --cuda"
      ],
      "execution_count": 0,
      "outputs": [
        {
          "output_type": "stream",
          "text": [
            "=> use gpu id: '0'\n",
            "/usr/local/lib/python3.6/dist-packages/torch/serialization.py:435: SourceChangeWarning: source code of class 'torch.nn.modules.container.Sequential' has changed. you can retrieve the original source code by accessing the object's source attribute or set `torch.nn.Module.dump_patches = True` and use the patch tool to revert the changes.\n",
            "  warnings.warn(msg, SourceChangeWarning)\n",
            "/usr/local/lib/python3.6/dist-packages/torch/serialization.py:435: SourceChangeWarning: source code of class 'torch.nn.modules.conv.Conv2d' has changed. you can retrieve the original source code by accessing the object's source attribute or set `torch.nn.Module.dump_patches = True` and use the patch tool to revert the changes.\n",
            "  warnings.warn(msg, SourceChangeWarning)\n",
            "/usr/local/lib/python3.6/dist-packages/torch/serialization.py:435: SourceChangeWarning: source code of class 'torch.nn.modules.activation.ReLU' has changed. you can retrieve the original source code by accessing the object's source attribute or set `torch.nn.Module.dump_patches = True` and use the patch tool to revert the changes.\n",
            "  warnings.warn(msg, SourceChangeWarning)\n",
            "Processing  Set5_mat/woman_GT_x2.mat\n",
            "Processing  Set5_mat/baby_GT_x2.mat\n",
            "Processing  Set5_mat/head_GT_x2.mat\n",
            "Processing  Set5_mat/bird_GT_x2.mat\n",
            "Processing  Set5_mat/butterfly_GT_x2.mat\n",
            "Scale= 2\n",
            "Dataset= Set5\n",
            "PSNR_predicted= 37.459065450125195\n",
            "PSNR_bicubic= 33.69039381292539\n",
            "It takes average 0.008350944519042969s for processing\n",
            "Processing  Set5_mat/head_GT_x3.mat\n",
            "Processing  Set5_mat/bird_GT_x3.mat\n",
            "Processing  Set5_mat/baby_GT_x3.mat\n",
            "Processing  Set5_mat/butterfly_GT_x3.mat\n",
            "Processing  Set5_mat/woman_GT_x3.mat\n",
            "Scale= 3\n",
            "Dataset= Set5\n",
            "PSNR_predicted= 33.532586023182546\n",
            "PSNR_bicubic= 30.40769234323546\n",
            "It takes average 0.0028724193572998045s for processing\n",
            "Processing  Set5_mat/head_GT_x4.mat\n",
            "Processing  Set5_mat/woman_GT_x4.mat\n",
            "Processing  Set5_mat/butterfly_GT_x4.mat\n",
            "Processing  Set5_mat/baby_GT_x4.mat\n",
            "Processing  Set5_mat/bird_GT_x4.mat\n",
            "Scale= 4\n",
            "Dataset= Set5\n",
            "PSNR_predicted= 30.9456041118749\n",
            "PSNR_bicubic= 28.41454827257395\n",
            "It takes average 0.0024829864501953124s for processing\n"
          ],
          "name": "stdout"
        }
      ]
    },
    {
      "metadata": {
        "id": "sOU0htXhtGfF",
        "colab_type": "code",
        "outputId": "83927073-9759-443b-d36d-ff4a2c7a4172",
        "colab": {
          "base_uri": "https://localhost:8080/",
          "height": 1924
        }
      },
      "cell_type": "code",
      "source": [
        "#TRAIN THE MODEL\n",
        "!python main_vdsr.py"
      ],
      "execution_count": 0,
      "outputs": [
        {
          "output_type": "stream",
          "text": [
            "Namespace(batchSize=128, clip=0.4, cuda=False, gpus='0', lr=0.1, momentum=0.9, nEpochs=50, pretrained='', resume='', start_epoch=1, step=10, threads=1, weight_decay=0.0001)\n",
            "Random Seed:  3646\n",
            "===> Loading datasets\n",
            "===> Building model\n",
            "/usr/local/lib/python3.6/dist-packages/torch/nn/_reduction.py:49: UserWarning: size_average and reduce args will be deprecated, please use reduction='sum' instead.\n",
            "  warnings.warn(warning.format(ret))\n",
            "===> Setting GPU\n",
            "===> Setting Optimizer\n",
            "===> Training\n",
            "Epoch = 1, lr = 0.1\n",
            "main_vdsr.py:113: UserWarning: torch.nn.utils.clip_grad_norm is now deprecated in favor of torch.nn.utils.clip_grad_norm_.\n",
            "  nn.utils.clip_grad_norm(model.parameters(),opt.clip)\n",
            "Checkpoint saved to checkpoint/model_epoch_1.pth\n",
            "Epoch = 2, lr = 0.1\n",
            "Checkpoint saved to checkpoint/model_epoch_2.pth\n",
            "Epoch = 3, lr = 0.1\n",
            "Checkpoint saved to checkpoint/model_epoch_3.pth\n",
            "Epoch = 4, lr = 0.1\n",
            "Checkpoint saved to checkpoint/model_epoch_4.pth\n",
            "Epoch = 5, lr = 0.1\n",
            "Checkpoint saved to checkpoint/model_epoch_5.pth\n",
            "Epoch = 6, lr = 0.1\n",
            "Checkpoint saved to checkpoint/model_epoch_6.pth\n",
            "Epoch = 7, lr = 0.1\n",
            "Checkpoint saved to checkpoint/model_epoch_7.pth\n",
            "Epoch = 8, lr = 0.1\n",
            "Checkpoint saved to checkpoint/model_epoch_8.pth\n",
            "Epoch = 9, lr = 0.1\n",
            "Checkpoint saved to checkpoint/model_epoch_9.pth\n",
            "Epoch = 10, lr = 0.1\n",
            "Checkpoint saved to checkpoint/model_epoch_10.pth\n",
            "Epoch = 11, lr = 0.010000000000000002\n",
            "Checkpoint saved to checkpoint/model_epoch_11.pth\n",
            "Epoch = 12, lr = 0.010000000000000002\n",
            "Checkpoint saved to checkpoint/model_epoch_12.pth\n",
            "Epoch = 13, lr = 0.010000000000000002\n",
            "Checkpoint saved to checkpoint/model_epoch_13.pth\n",
            "Epoch = 14, lr = 0.010000000000000002\n",
            "Checkpoint saved to checkpoint/model_epoch_14.pth\n",
            "Epoch = 15, lr = 0.010000000000000002\n",
            "Checkpoint saved to checkpoint/model_epoch_15.pth\n",
            "Epoch = 16, lr = 0.010000000000000002\n",
            "Checkpoint saved to checkpoint/model_epoch_16.pth\n",
            "Epoch = 17, lr = 0.010000000000000002\n",
            "Checkpoint saved to checkpoint/model_epoch_17.pth\n",
            "Epoch = 18, lr = 0.010000000000000002\n",
            "Checkpoint saved to checkpoint/model_epoch_18.pth\n",
            "Epoch = 19, lr = 0.010000000000000002\n",
            "Checkpoint saved to checkpoint/model_epoch_19.pth\n",
            "Epoch = 20, lr = 0.010000000000000002\n",
            "Checkpoint saved to checkpoint/model_epoch_20.pth\n",
            "Epoch = 21, lr = 0.0010000000000000002\n",
            "Checkpoint saved to checkpoint/model_epoch_21.pth\n",
            "Epoch = 22, lr = 0.0010000000000000002\n",
            "Checkpoint saved to checkpoint/model_epoch_22.pth\n",
            "Epoch = 23, lr = 0.0010000000000000002\n",
            "Checkpoint saved to checkpoint/model_epoch_23.pth\n",
            "Epoch = 24, lr = 0.0010000000000000002\n",
            "Checkpoint saved to checkpoint/model_epoch_24.pth\n",
            "Epoch = 25, lr = 0.0010000000000000002\n",
            "Checkpoint saved to checkpoint/model_epoch_25.pth\n",
            "Epoch = 26, lr = 0.0010000000000000002\n",
            "Checkpoint saved to checkpoint/model_epoch_26.pth\n",
            "Epoch = 27, lr = 0.0010000000000000002\n",
            "Checkpoint saved to checkpoint/model_epoch_27.pth\n",
            "Epoch = 28, lr = 0.0010000000000000002\n",
            "Checkpoint saved to checkpoint/model_epoch_28.pth\n",
            "Epoch = 29, lr = 0.0010000000000000002\n",
            "Checkpoint saved to checkpoint/model_epoch_29.pth\n",
            "Epoch = 30, lr = 0.0010000000000000002\n",
            "Checkpoint saved to checkpoint/model_epoch_30.pth\n",
            "Epoch = 31, lr = 0.00010000000000000003\n",
            "Checkpoint saved to checkpoint/model_epoch_31.pth\n",
            "Epoch = 32, lr = 0.00010000000000000003\n",
            "Checkpoint saved to checkpoint/model_epoch_32.pth\n",
            "Epoch = 33, lr = 0.00010000000000000003\n",
            "Checkpoint saved to checkpoint/model_epoch_33.pth\n",
            "Epoch = 34, lr = 0.00010000000000000003\n",
            "Checkpoint saved to checkpoint/model_epoch_34.pth\n",
            "Epoch = 35, lr = 0.00010000000000000003\n",
            "Checkpoint saved to checkpoint/model_epoch_35.pth\n",
            "Epoch = 36, lr = 0.00010000000000000003\n",
            "Checkpoint saved to checkpoint/model_epoch_36.pth\n",
            "Epoch = 37, lr = 0.00010000000000000003\n",
            "Checkpoint saved to checkpoint/model_epoch_37.pth\n",
            "Epoch = 38, lr = 0.00010000000000000003\n",
            "Checkpoint saved to checkpoint/model_epoch_38.pth\n",
            "Epoch = 39, lr = 0.00010000000000000003\n",
            "Checkpoint saved to checkpoint/model_epoch_39.pth\n",
            "Epoch = 40, lr = 0.00010000000000000003\n",
            "Checkpoint saved to checkpoint/model_epoch_40.pth\n",
            "Epoch = 41, lr = 1.0000000000000003e-05\n",
            "Checkpoint saved to checkpoint/model_epoch_41.pth\n",
            "Epoch = 42, lr = 1.0000000000000003e-05\n",
            "Checkpoint saved to checkpoint/model_epoch_42.pth\n",
            "Epoch = 43, lr = 1.0000000000000003e-05\n",
            "Checkpoint saved to checkpoint/model_epoch_43.pth\n",
            "Epoch = 44, lr = 1.0000000000000003e-05\n",
            "Checkpoint saved to checkpoint/model_epoch_44.pth\n",
            "Epoch = 45, lr = 1.0000000000000003e-05\n",
            "Checkpoint saved to checkpoint/model_epoch_45.pth\n",
            "Epoch = 46, lr = 1.0000000000000003e-05\n",
            "Checkpoint saved to checkpoint/model_epoch_46.pth\n",
            "Epoch = 47, lr = 1.0000000000000003e-05\n",
            "Checkpoint saved to checkpoint/model_epoch_47.pth\n",
            "Epoch = 48, lr = 1.0000000000000003e-05\n",
            "Checkpoint saved to checkpoint/model_epoch_48.pth\n",
            "Epoch = 49, lr = 1.0000000000000003e-05\n",
            "Checkpoint saved to checkpoint/model_epoch_49.pth\n",
            "Epoch = 50, lr = 1.0000000000000003e-05\n",
            "Checkpoint saved to checkpoint/model_epoch_50.pth\n"
          ],
          "name": "stdout"
        }
      ]
    },
    {
      "metadata": {
        "id": "xD048kmQEfH6",
        "colab_type": "code",
        "colab": {
          "base_uri": "https://localhost:8080/",
          "height": 581
        },
        "outputId": "1559cddb-21c7-42bf-d1cf-9ef30bb49301"
      },
      "cell_type": "code",
      "source": [
        "!python eval.py --model checkpoint/model_epoch_20.pth --dataset Set5 --cuda"
      ],
      "execution_count": 10,
      "outputs": [
        {
          "output_type": "stream",
          "text": [
            "=> use gpu id: '0'\n",
            "Processing  Set5_mat/woman_GT_x2.mat\n",
            "Processing  Set5_mat/baby_GT_x2.mat\n",
            "Processing  Set5_mat/head_GT_x2.mat\n",
            "Processing  Set5_mat/bird_GT_x2.mat\n",
            "Processing  Set5_mat/butterfly_GT_x2.mat\n",
            "Scale= 2\n",
            "Dataset= Set5\n",
            "PSNR_predicted= 33.690391808087796\n",
            "PSNR_bicubic= 33.69039381292539\n",
            "It takes average 0.005373573303222657s for processing\n",
            "Processing  Set5_mat/head_GT_x3.mat\n",
            "Processing  Set5_mat/bird_GT_x3.mat\n",
            "Processing  Set5_mat/baby_GT_x3.mat\n",
            "Processing  Set5_mat/butterfly_GT_x3.mat\n",
            "Processing  Set5_mat/woman_GT_x3.mat\n",
            "Scale= 3\n",
            "Dataset= Set5\n",
            "PSNR_predicted= 30.407695695100035\n",
            "PSNR_bicubic= 30.40769234323546\n",
            "It takes average 0.002972412109375s for processing\n",
            "Processing  Set5_mat/head_GT_x4.mat\n",
            "Processing  Set5_mat/woman_GT_x4.mat\n",
            "Processing  Set5_mat/butterfly_GT_x4.mat\n",
            "Processing  Set5_mat/baby_GT_x4.mat\n",
            "Processing  Set5_mat/bird_GT_x4.mat\n",
            "Scale= 4\n",
            "Dataset= Set5\n",
            "PSNR_predicted= 28.414551919498773\n",
            "PSNR_bicubic= 28.41454827257395\n",
            "It takes average 0.002703428268432617s for processing\n"
          ],
          "name": "stdout"
        }
      ]
    },
    {
      "metadata": {
        "id": "wC50B6-pEnel",
        "colab_type": "code",
        "colab": {
          "base_uri": "https://localhost:8080/",
          "height": 72
        },
        "outputId": "0bd21a76-41bb-47b9-981d-ab33b013f2d1"
      },
      "cell_type": "code",
      "source": [
        "!ls"
      ],
      "execution_count": 11,
      "outputs": [
        {
          "output_type": "stream",
          "text": [
            "checkpoint  demo.py\t  model        results\t VDSR-Demo.ipynb\n",
            "data\t    eval.py\t  __pycache__  Set5\t vdsr.py\n",
            "dataset.py  main_vdsr.py  README.md    Set5_mat\n"
          ],
          "name": "stdout"
        }
      ]
    },
    {
      "metadata": {
        "id": "jyHQJw9yLIVP",
        "colab_type": "code",
        "colab": {}
      },
      "cell_type": "code",
      "source": [
        ""
      ],
      "execution_count": 0,
      "outputs": []
    }
  ]
}