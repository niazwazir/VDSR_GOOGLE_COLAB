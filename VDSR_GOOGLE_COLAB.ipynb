{
  "nbformat": 4,
  "nbformat_minor": 0,
  "metadata": {
    "colab": {
      "name": "VDSR_GOOGLE_COLAB.ipynb",
      "version": "0.3.2",
      "provenance": []
    },
    "kernelspec": {
      "name": "python3",
      "display_name": "Python 3"
    },
    "accelerator": "GPU"
  },
  "cells": [
    {
      "cell_type": "code",
      "metadata": {
        "id": "Azc7GCmFMNBi",
        "colab_type": "code",
        "colab": {
          "base_uri": "https://localhost:8080/",
          "height": 136
        },
        "outputId": "8b7516f3-5d42-4deb-c85e-950e926c62c6"
      },
      "source": [
        "!git clone https://github.com/niazwazir/VDSR_GOOGLE_COLAB.git"
      ],
      "execution_count": 2,
      "outputs": [
        {
          "output_type": "stream",
          "text": [
            "Cloning into 'VDSR_GOOGLE_COLAB'...\n",
            "remote: Enumerating objects: 3, done.\u001b[K\n",
            "remote: Counting objects: 100% (3/3), done.\u001b[K\n",
            "remote: Compressing objects: 100% (3/3), done.\u001b[K\n",
            "remote: Total 120 (delta 0), reused 0 (delta 0), pack-reused 117\u001b[K\n",
            "Receiving objects: 100% (120/120), 90.72 MiB | 6.71 MiB/s, done.\n",
            "Resolving deltas: 100% (21/21), done.\n"
          ],
          "name": "stdout"
        }
      ]
    },
    {
      "cell_type": "code",
      "metadata": {
        "id": "nTsGbzkEtGWs",
        "colab_type": "code",
        "outputId": "421d4e36-767f-4fe2-df5b-e6dc35091c91",
        "colab": {
          "base_uri": "https://localhost:8080/",
          "height": 34
        }
      },
      "source": [
        "!ls"
      ],
      "execution_count": 3,
      "outputs": [
        {
          "output_type": "stream",
          "text": [
            "sample_data  VDSR_GOOGLE_COLAB\n"
          ],
          "name": "stdout"
        }
      ]
    },
    {
      "cell_type": "code",
      "metadata": {
        "id": "oHFnfT1MtGZY",
        "colab_type": "code",
        "outputId": "2919eec1-2531-4a8a-e7fa-f4e01f9a5ad8",
        "colab": {
          "base_uri": "https://localhost:8080/",
          "height": 34
        }
      },
      "source": [
        "cd VDSR_GOOGLE_COLAB"
      ],
      "execution_count": 4,
      "outputs": [
        {
          "output_type": "stream",
          "text": [
            "/content/VDSR_GOOGLE_COLAB\n"
          ],
          "name": "stdout"
        }
      ]
    },
    {
      "cell_type": "code",
      "metadata": {
        "id": "BxMstpCKMa8D",
        "colab_type": "code",
        "colab": {
          "base_uri": "https://localhost:8080/",
          "height": 921
        },
        "outputId": "8038ec43-1aa9-41d4-c796-1a912565099a"
      },
      "source": [
        "!pip install --upgrade fastai torch==1.0.0"
      ],
      "execution_count": 5,
      "outputs": [
        {
          "output_type": "stream",
          "text": [
            "Requirement already up-to-date: fastai in /usr/local/lib/python3.6/dist-packages (1.0.52)\n",
            "Collecting torch==1.0.0\n",
            "\u001b[?25l  Downloading https://files.pythonhosted.org/packages/7e/60/66415660aa46b23b5e1b72bc762e816736ce8d7260213e22365af51e8f9c/torch-1.0.0-cp36-cp36m-manylinux1_x86_64.whl (591.8MB)\n",
            "\u001b[K     |████████████████████████████████| 591.8MB 26kB/s \n",
            "\u001b[?25hRequirement already satisfied, skipping upgrade: nvidia-ml-py3 in /usr/local/lib/python3.6/dist-packages (from fastai) (7.352.0)\n",
            "Requirement already satisfied, skipping upgrade: numpy>=1.15 in /usr/local/lib/python3.6/dist-packages (from fastai) (1.16.3)\n",
            "Requirement already satisfied, skipping upgrade: Pillow in /usr/local/lib/python3.6/dist-packages (from fastai) (4.3.0)\n",
            "Requirement already satisfied, skipping upgrade: bottleneck in /usr/local/lib/python3.6/dist-packages (from fastai) (1.2.1)\n",
            "Requirement already satisfied, skipping upgrade: fastprogress>=0.1.19 in /usr/local/lib/python3.6/dist-packages (from fastai) (0.1.21)\n",
            "Requirement already satisfied, skipping upgrade: matplotlib in /usr/local/lib/python3.6/dist-packages (from fastai) (3.0.3)\n",
            "Requirement already satisfied, skipping upgrade: pyyaml in /usr/local/lib/python3.6/dist-packages (from fastai) (3.13)\n",
            "Requirement already satisfied, skipping upgrade: typing in /usr/local/lib/python3.6/dist-packages (from fastai) (3.6.6)\n",
            "Requirement already satisfied, skipping upgrade: spacy>=2.0.18 in /usr/local/lib/python3.6/dist-packages (from fastai) (2.0.18)\n",
            "Requirement already satisfied, skipping upgrade: numexpr in /usr/local/lib/python3.6/dist-packages (from fastai) (2.6.9)\n",
            "Requirement already satisfied, skipping upgrade: torchvision in /usr/local/lib/python3.6/dist-packages (from fastai) (0.2.2.post3)\n",
            "Requirement already satisfied, skipping upgrade: requests in /usr/local/lib/python3.6/dist-packages (from fastai) (2.21.0)\n",
            "Requirement already satisfied, skipping upgrade: scipy in /usr/local/lib/python3.6/dist-packages (from fastai) (1.2.1)\n",
            "Requirement already satisfied, skipping upgrade: beautifulsoup4 in /usr/local/lib/python3.6/dist-packages (from fastai) (4.6.3)\n",
            "Requirement already satisfied, skipping upgrade: dataclasses; python_version < \"3.7\" in /usr/local/lib/python3.6/dist-packages (from fastai) (0.6)\n",
            "Requirement already satisfied, skipping upgrade: pandas in /usr/local/lib/python3.6/dist-packages (from fastai) (0.24.2)\n",
            "Requirement already satisfied, skipping upgrade: packaging in /usr/local/lib/python3.6/dist-packages (from fastai) (19.0)\n",
            "Requirement already satisfied, skipping upgrade: olefile in /usr/local/lib/python3.6/dist-packages (from Pillow->fastai) (0.46)\n",
            "Requirement already satisfied, skipping upgrade: kiwisolver>=1.0.1 in /usr/local/lib/python3.6/dist-packages (from matplotlib->fastai) (1.1.0)\n",
            "Requirement already satisfied, skipping upgrade: python-dateutil>=2.1 in /usr/local/lib/python3.6/dist-packages (from matplotlib->fastai) (2.5.3)\n",
            "Requirement already satisfied, skipping upgrade: pyparsing!=2.0.4,!=2.1.2,!=2.1.6,>=2.0.1 in /usr/local/lib/python3.6/dist-packages (from matplotlib->fastai) (2.4.0)\n",
            "Requirement already satisfied, skipping upgrade: cycler>=0.10 in /usr/local/lib/python3.6/dist-packages (from matplotlib->fastai) (0.10.0)\n",
            "Requirement already satisfied, skipping upgrade: plac<1.0.0,>=0.9.6 in /usr/local/lib/python3.6/dist-packages (from spacy>=2.0.18->fastai) (0.9.6)\n",
            "Requirement already satisfied, skipping upgrade: thinc<6.13.0,>=6.12.1 in /usr/local/lib/python3.6/dist-packages (from spacy>=2.0.18->fastai) (6.12.1)\n",
            "Requirement already satisfied, skipping upgrade: cymem<2.1.0,>=2.0.2 in /usr/local/lib/python3.6/dist-packages (from spacy>=2.0.18->fastai) (2.0.2)\n",
            "Requirement already satisfied, skipping upgrade: murmurhash<1.1.0,>=0.28.0 in /usr/local/lib/python3.6/dist-packages (from spacy>=2.0.18->fastai) (1.0.2)\n",
            "Requirement already satisfied, skipping upgrade: ujson>=1.35 in /usr/local/lib/python3.6/dist-packages (from spacy>=2.0.18->fastai) (1.35)\n",
            "Requirement already satisfied, skipping upgrade: preshed<2.1.0,>=2.0.1 in /usr/local/lib/python3.6/dist-packages (from spacy>=2.0.18->fastai) (2.0.1)\n",
            "Requirement already satisfied, skipping upgrade: regex==2018.01.10 in /usr/local/lib/python3.6/dist-packages (from spacy>=2.0.18->fastai) (2018.1.10)\n",
            "Requirement already satisfied, skipping upgrade: dill<0.3,>=0.2 in /usr/local/lib/python3.6/dist-packages (from spacy>=2.0.18->fastai) (0.2.9)\n",
            "Requirement already satisfied, skipping upgrade: six in /usr/local/lib/python3.6/dist-packages (from torchvision->fastai) (1.12.0)\n",
            "Requirement already satisfied, skipping upgrade: urllib3<1.25,>=1.21.1 in /usr/local/lib/python3.6/dist-packages (from requests->fastai) (1.24.3)\n",
            "Requirement already satisfied, skipping upgrade: chardet<3.1.0,>=3.0.2 in /usr/local/lib/python3.6/dist-packages (from requests->fastai) (3.0.4)\n",
            "Requirement already satisfied, skipping upgrade: idna<2.9,>=2.5 in /usr/local/lib/python3.6/dist-packages (from requests->fastai) (2.8)\n",
            "Requirement already satisfied, skipping upgrade: certifi>=2017.4.17 in /usr/local/lib/python3.6/dist-packages (from requests->fastai) (2019.3.9)\n",
            "Requirement already satisfied, skipping upgrade: pytz>=2011k in /usr/local/lib/python3.6/dist-packages (from pandas->fastai) (2018.9)\n",
            "Requirement already satisfied, skipping upgrade: setuptools in /usr/local/lib/python3.6/dist-packages (from kiwisolver>=1.0.1->matplotlib->fastai) (41.0.1)\n",
            "Requirement already satisfied, skipping upgrade: msgpack-numpy<0.4.4 in /usr/local/lib/python3.6/dist-packages (from thinc<6.13.0,>=6.12.1->spacy>=2.0.18->fastai) (0.4.3.2)\n",
            "Requirement already satisfied, skipping upgrade: tqdm<5.0.0,>=4.10.0 in /usr/local/lib/python3.6/dist-packages (from thinc<6.13.0,>=6.12.1->spacy>=2.0.18->fastai) (4.28.1)\n",
            "Requirement already satisfied, skipping upgrade: msgpack<0.6.0,>=0.5.6 in /usr/local/lib/python3.6/dist-packages (from thinc<6.13.0,>=6.12.1->spacy>=2.0.18->fastai) (0.5.6)\n",
            "Requirement already satisfied, skipping upgrade: cytoolz<0.10,>=0.9.0 in /usr/local/lib/python3.6/dist-packages (from thinc<6.13.0,>=6.12.1->spacy>=2.0.18->fastai) (0.9.0.1)\n",
            "Requirement already satisfied, skipping upgrade: wrapt<1.11.0,>=1.10.0 in /usr/local/lib/python3.6/dist-packages (from thinc<6.13.0,>=6.12.1->spacy>=2.0.18->fastai) (1.10.11)\n",
            "Requirement already satisfied, skipping upgrade: toolz>=0.8.0 in /usr/local/lib/python3.6/dist-packages (from cytoolz<0.10,>=0.9.0->thinc<6.13.0,>=6.12.1->spacy>=2.0.18->fastai) (0.9.0)\n",
            "Installing collected packages: torch\n",
            "  Found existing installation: torch 1.1.0\n",
            "    Uninstalling torch-1.1.0:\n",
            "      Successfully uninstalled torch-1.1.0\n",
            "Successfully installed torch-1.0.0\n"
          ],
          "name": "stdout"
        }
      ]
    },
    {
      "cell_type": "code",
      "metadata": {
        "id": "LnrVGgyEJexB",
        "colab_type": "code",
        "colab": {
          "base_uri": "https://localhost:8080/",
          "height": 68
        },
        "outputId": "274d091a-b5d8-42dd-d3ed-da853becab85"
      },
      "source": [
        "!ls"
      ],
      "execution_count": 6,
      "outputs": [
        {
          "output_type": "stream",
          "text": [
            "data\t    eval.py\t  README.md  Set5_mat\t\t      vdsr.py\n",
            "dataset.py  main_vdsr.py  results    VDSR-Demo.ipynb\n",
            "demo.py     model\t  Set5\t     VDSR_GOOGLE_COLAB.ipynb\n"
          ],
          "name": "stdout"
        }
      ]
    },
    {
      "cell_type": "code",
      "metadata": {
        "id": "-AZM6MPtJxNf",
        "colab_type": "code",
        "colab": {
          "base_uri": "https://localhost:8080/",
          "height": 683
        },
        "outputId": "c2eee095-9ad5-4134-e8e2-6e3efd5728f2"
      },
      "source": [
        "!python eval.py --cuda --dataset Set5"
      ],
      "execution_count": 7,
      "outputs": [
        {
          "output_type": "stream",
          "text": [
            "=> use gpu id: '0'\n",
            "/usr/local/lib/python3.6/dist-packages/torch/serialization.py:434: SourceChangeWarning: source code of class 'torch.nn.modules.container.Sequential' has changed. you can retrieve the original source code by accessing the object's source attribute or set `torch.nn.Module.dump_patches = True` and use the patch tool to revert the changes.\n",
            "  warnings.warn(msg, SourceChangeWarning)\n",
            "/usr/local/lib/python3.6/dist-packages/torch/serialization.py:434: SourceChangeWarning: source code of class 'torch.nn.modules.conv.Conv2d' has changed. you can retrieve the original source code by accessing the object's source attribute or set `torch.nn.Module.dump_patches = True` and use the patch tool to revert the changes.\n",
            "  warnings.warn(msg, SourceChangeWarning)\n",
            "/usr/local/lib/python3.6/dist-packages/torch/serialization.py:434: SourceChangeWarning: source code of class 'torch.nn.modules.activation.ReLU' has changed. you can retrieve the original source code by accessing the object's source attribute or set `torch.nn.Module.dump_patches = True` and use the patch tool to revert the changes.\n",
            "  warnings.warn(msg, SourceChangeWarning)\n",
            "Processing  Set5_mat/baby_GT_x2.mat\n",
            "THCudaCheck FAIL file=/pytorch/aten/src/THC/THCGeneral.cpp line=405 error=11 : invalid argument\n",
            "Processing  Set5_mat/butterfly_GT_x2.mat\n",
            "Processing  Set5_mat/bird_GT_x2.mat\n",
            "Processing  Set5_mat/woman_GT_x2.mat\n",
            "Processing  Set5_mat/head_GT_x2.mat\n",
            "Scale= 2\n",
            "Dataset= Set5\n",
            "PSNR_predicted= 37.45906446542741\n",
            "PSNR_bicubic= 33.69039381292539\n",
            "It takes average 0.0059641838073730465s for processing\n",
            "Processing  Set5_mat/butterfly_GT_x3.mat\n",
            "Processing  Set5_mat/bird_GT_x3.mat\n",
            "Processing  Set5_mat/baby_GT_x3.mat\n",
            "Processing  Set5_mat/woman_GT_x3.mat\n",
            "Processing  Set5_mat/head_GT_x3.mat\n",
            "Scale= 3\n",
            "Dataset= Set5\n",
            "PSNR_predicted= 33.5325852707953\n",
            "PSNR_bicubic= 30.407692343235453\n",
            "It takes average 0.002418804168701172s for processing\n",
            "Processing  Set5_mat/baby_GT_x4.mat\n",
            "Processing  Set5_mat/head_GT_x4.mat\n",
            "Processing  Set5_mat/bird_GT_x4.mat\n",
            "Processing  Set5_mat/butterfly_GT_x4.mat\n",
            "Processing  Set5_mat/woman_GT_x4.mat\n",
            "Scale= 4\n",
            "Dataset= Set5\n",
            "PSNR_predicted= 30.9456043875684\n",
            "PSNR_bicubic= 28.41454827257395\n",
            "It takes average 0.0016906261444091797s for processing\n"
          ],
          "name": "stdout"
        }
      ]
    },
    {
      "cell_type": "code",
      "metadata": {
        "id": "sOU0htXhtGfF",
        "colab_type": "code",
        "outputId": "d4c65ec3-bf0e-4c3d-8cc8-51ba6897f524",
        "colab": {
          "base_uri": "https://localhost:8080/",
          "height": 1159
        }
      },
      "source": [
        "#TRAIN THE MODEL\n",
        "!python main_vdsr.py"
      ],
      "execution_count": 8,
      "outputs": [
        {
          "output_type": "stream",
          "text": [
            "Namespace(batchSize=128, clip=0.4, cuda=False, gpus='0', lr=0.1, momentum=0.9, nEpochs=50, pretrained='', resume='', start_epoch=1, step=10, threads=1, weight_decay=0.0001)\n",
            "Random Seed:  1457\n",
            "===> Loading datasets\n",
            "===> Building model\n",
            "/usr/local/lib/python3.6/dist-packages/torch/nn/_reduction.py:49: UserWarning: size_average and reduce args will be deprecated, please use reduction='sum' instead.\n",
            "  warnings.warn(warning.format(ret))\n",
            "===> Setting GPU\n",
            "===> Setting Optimizer\n",
            "===> Training\n",
            "Epoch = 1, lr = 0.1\n",
            "main_vdsr.py:113: UserWarning: torch.nn.utils.clip_grad_norm is now deprecated in favor of torch.nn.utils.clip_grad_norm_.\n",
            "  nn.utils.clip_grad_norm(model.parameters(),opt.clip)\n",
            "Checkpoint saved to checkpoint/model_epoch_1.pth\n",
            "Epoch = 2, lr = 0.1\n",
            "Checkpoint saved to checkpoint/model_epoch_2.pth\n",
            "Epoch = 3, lr = 0.1\n",
            "Checkpoint saved to checkpoint/model_epoch_3.pth\n",
            "Epoch = 4, lr = 0.1\n",
            "Checkpoint saved to checkpoint/model_epoch_4.pth\n",
            "Epoch = 5, lr = 0.1\n",
            "Checkpoint saved to checkpoint/model_epoch_5.pth\n",
            "Epoch = 6, lr = 0.1\n",
            "Checkpoint saved to checkpoint/model_epoch_6.pth\n",
            "Epoch = 7, lr = 0.1\n",
            "Checkpoint saved to checkpoint/model_epoch_7.pth\n",
            "Epoch = 8, lr = 0.1\n",
            "Checkpoint saved to checkpoint/model_epoch_8.pth\n",
            "Epoch = 9, lr = 0.1\n",
            "Checkpoint saved to checkpoint/model_epoch_9.pth\n",
            "Epoch = 10, lr = 0.1\n",
            "Checkpoint saved to checkpoint/model_epoch_10.pth\n",
            "Epoch = 11, lr = 0.010000000000000002\n",
            "Checkpoint saved to checkpoint/model_epoch_11.pth\n",
            "Epoch = 12, lr = 0.010000000000000002\n",
            "Checkpoint saved to checkpoint/model_epoch_12.pth\n",
            "Epoch = 13, lr = 0.010000000000000002\n",
            "Checkpoint saved to checkpoint/model_epoch_13.pth\n",
            "Epoch = 14, lr = 0.010000000000000002\n",
            "Checkpoint saved to checkpoint/model_epoch_14.pth\n",
            "Epoch = 15, lr = 0.010000000000000002\n",
            "Checkpoint saved to checkpoint/model_epoch_15.pth\n",
            "Epoch = 16, lr = 0.010000000000000002\n",
            "Checkpoint saved to checkpoint/model_epoch_16.pth\n",
            "Epoch = 17, lr = 0.010000000000000002\n",
            "Traceback (most recent call last):\n",
            "  File \"main_vdsr.py\", line 130, in <module>\n",
            "    main()\n",
            "  File \"main_vdsr.py\", line 85, in main\n",
            "Traceback (most recent call last):\n",
            "  File \"/usr/lib/python3.6/multiprocessing/queues.py\", line 240, in _feed\n",
            "    send_bytes(obj)\n",
            "  File \"/usr/lib/python3.6/multiprocessing/connection.py\", line 200, in send_bytes\n",
            "    self._send_bytes(m[offset:offset + size])\n",
            "    train(training_data_loader, optimizer, model, criterion, epoch)\n",
            "  File \"/usr/lib/python3.6/multiprocessing/connection.py\", line 404, in _send_bytes\n",
            "    self._send(header + buf)\n",
            "  File \"main_vdsr.py\", line 112, in train\n",
            "  File \"/usr/lib/python3.6/multiprocessing/connection.py\", line 368, in _send\n",
            "    n = write(self._handle, buf)\n",
            "BrokenPipeError: [Errno 32] Broken pipe\n",
            "    loss.backward() \n",
            "  File \"/usr/local/lib/python3.6/dist-packages/torch/tensor.py\", line 102, in backward\n",
            "    torch.autograd.backward(self, gradient, retain_graph, create_graph)\n",
            "  File \"/usr/local/lib/python3.6/dist-packages/torch/autograd/__init__.py\", line 90, in backward\n",
            "    allow_unreachable=True)  # allow_unreachable flag\n",
            "KeyboardInterrupt\n"
          ],
          "name": "stdout"
        }
      ]
    },
    {
      "cell_type": "code",
      "metadata": {
        "id": "xD048kmQEfH6",
        "colab_type": "code",
        "outputId": "1ec096f8-54a1-4da6-aece-54814e37ecb9",
        "colab": {
          "base_uri": "https://localhost:8080/",
          "height": 561
        }
      },
      "source": [
        "!python eval.py --model checkpoint/model_epoch_10.pth --dataset Set5 --cuda"
      ],
      "execution_count": 10,
      "outputs": [
        {
          "output_type": "stream",
          "text": [
            "=> use gpu id: '0'\n",
            "Processing  Set5_mat/baby_GT_x2.mat\n",
            "THCudaCheck FAIL file=/pytorch/aten/src/THC/THCGeneral.cpp line=405 error=11 : invalid argument\n",
            "Processing  Set5_mat/butterfly_GT_x2.mat\n",
            "Processing  Set5_mat/bird_GT_x2.mat\n",
            "Processing  Set5_mat/woman_GT_x2.mat\n",
            "Processing  Set5_mat/head_GT_x2.mat\n",
            "Scale= 2\n",
            "Dataset= Set5\n",
            "PSNR_predicted= 33.6903930338995\n",
            "PSNR_bicubic= 33.69039381292539\n",
            "It takes average 0.005532169342041015s for processing\n",
            "Processing  Set5_mat/butterfly_GT_x3.mat\n",
            "Processing  Set5_mat/bird_GT_x3.mat\n",
            "Processing  Set5_mat/baby_GT_x3.mat\n",
            "Processing  Set5_mat/woman_GT_x3.mat\n",
            "Processing  Set5_mat/head_GT_x3.mat\n",
            "Scale= 3\n",
            "Dataset= Set5\n",
            "PSNR_predicted= 30.4076924338412\n",
            "PSNR_bicubic= 30.407692343235453\n",
            "It takes average 0.0022333145141601564s for processing\n",
            "Processing  Set5_mat/baby_GT_x4.mat\n",
            "Processing  Set5_mat/head_GT_x4.mat\n",
            "Processing  Set5_mat/bird_GT_x4.mat\n",
            "Processing  Set5_mat/butterfly_GT_x4.mat\n",
            "Processing  Set5_mat/woman_GT_x4.mat\n",
            "Scale= 4\n",
            "Dataset= Set5\n",
            "PSNR_predicted= 28.41455407490965\n",
            "PSNR_bicubic= 28.41454827257395\n",
            "It takes average 0.0016162872314453125s for processing\n"
          ],
          "name": "stdout"
        }
      ]
    },
    {
      "cell_type": "code",
      "metadata": {
        "id": "Ubbcw7z0Ln8X",
        "colab_type": "code",
        "colab": {}
      },
      "source": [
        ""
      ],
      "execution_count": 0,
      "outputs": []
    }
  ]
}